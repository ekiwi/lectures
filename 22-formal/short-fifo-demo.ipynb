{
 "cells": [
  {
   "cell_type": "markdown",
   "id": "external-thermal",
   "metadata": {
    "slideshow": {
     "slide_type": "slide"
    }
   },
   "source": [
    "## Agile Hardware Design\n",
    "***\n",
    "# Short Fifo Formal Verification Demo\n",
    "\n",
    "## Kevin Laeufer\n",
    "### laeufer@berkeley.edu\n",
    "\n",
    "- Berkeley PhD student\n",
    "- maintainer of the [chiseltest](https://github.com/ucb-bar/chiseltest) library\n",
    "\n",
    "**Note**: make sure you have the [z3 SMT solver](https://github.com/Z3Prover/z3) installed to be able to execute the examples on your machine. It should be available through your favorite package manager: _brew_, _dnf_, _apt_ etc.\n"
   ]
  },
  {
   "cell_type": "markdown",
   "id": "regular-reducing",
   "metadata": {
    "slideshow": {
     "slide_type": "slide"
    }
   },
   "source": [
    "## Loading The Chisel Library Into a Notebook"
   ]
  },
  {
   "cell_type": "code",
   "execution_count": null,
   "id": "robust-immigration",
   "metadata": {},
   "outputs": [],
   "source": [
    "val path = System.getProperty(\"user.dir\") + \"/../resource/chisel_deps.sc\"\n",
    "interp.load.module(ammonite.ops.Path(java.nio.file.FileSystems.getDefault().getPath(path)))"
   ]
  },
  {
   "cell_type": "code",
   "execution_count": null,
   "id": "extended-burning",
   "metadata": {
    "slideshow": {
     "slide_type": "-"
    }
   },
   "outputs": [],
   "source": [
    "import chisel3._\n",
    "import chisel3.util._\n",
    "import chiseltest._\n",
    "import chiseltest.formal._\n",
    "import chiseltest.experimental.observe\n",
    "import chiseltest.RawTester._"
   ]
  },
  {
   "cell_type": "code",
   "execution_count": null,
   "id": "a34738d4",
   "metadata": {},
   "outputs": [],
   "source": [
    "// this module will be part of the next chisel release\n",
    "import chisel3.experimental.IO\n",
    "/** Tracks random packets for formally verifying FIFOs\n",
    "  *\n",
    "  *  This ensures that when some data enters the FIFO, it will always be dequeued after the correct number of elements.\n",
    "  *  So essentially we are verifying data integrity. Note that this does not imply that the FIFO has no bugs\n",
    "  *  since e.g., a FIFO that never allows elements to be enqueued would easily pass our assertions.\n",
    "  *\n",
    "  *  This module was inspired by the MagicPacketTracker used in the evaluation of the following paper:\n",
    "  *  Mann, Makai, and Clark Barrett. \"Partial order reduction for deep bug finding in synchronous hardware.\", CAV'20.\n",
    "  */\n",
    "object MagicPacketTracker {\n",
    "  def apply[D <: chisel3.Data](enq: ValidIO[D], deq: ValidIO[D], depth: Int, debugPrint: Boolean): Unit = {\n",
    "    val tracker = Module(new MagicPacketTracker(chiselTypeOf(enq.bits), depth, debugPrint))\n",
    "    tracker.enq := enq\n",
    "    tracker.deq := deq\n",
    "    val startTracking = IO(Input(Bool()))\n",
    "    tracker.startTracking := startTracking\n",
    "  }\n",
    "  def apply[D <: chisel3.Data](enq: ValidIO[D], deq: ValidIO[D], depth: Int): Unit =\n",
    "    apply(enq, deq, depth, debugPrint = false)\n",
    "  def apply[D <: chisel3.Data](enq: DecoupledIO[D], deq: DecoupledIO[D], depth: Int, debugPrint: Boolean): Unit =\n",
    "    apply(asValid(enq), asValid(deq), depth, debugPrint)\n",
    "  def apply[D <: chisel3.Data](enq: DecoupledIO[D], deq: DecoupledIO[D], depth: Int): Unit =\n",
    "    apply(asValid(enq), asValid(deq), depth)\n",
    "\n",
    "  private def asValid[D <: chisel3.Data](port: DecoupledIO[D]): ValidIO[D] = {\n",
    "    val validIO = Wire(ValidIO(chiselTypeOf(port.bits)))\n",
    "    validIO.valid := port.fire\n",
    "    validIO.bits := port.bits\n",
    "    validIO\n",
    "  }\n",
    "}\n",
    "\n",
    "class MagicPacketTracker[D <: chisel3.Data] private (dataTpe: D, fifoDepth: Int, debugPrint: Boolean) extends Module {\n",
    "  require(fifoDepth > 0, \"Fifo depth needs to be positive!\")\n",
    "  val enq = IO(Input(ValidIO(dataTpe)))\n",
    "  val deq = IO(Input(ValidIO(dataTpe)))\n",
    "\n",
    "  // count the number of elements in the fifo\n",
    "  val elementCount = RegInit(0.U(log2Ceil(fifoDepth + 1).W))\n",
    "  val nextElementCount = Mux(\n",
    "    enq.fire && !deq.fire,\n",
    "    elementCount + 1.U,\n",
    "    Mux(!enq.fire && deq.fire, elementCount - 1.U, elementCount)\n",
    "  )\n",
    "  elementCount := nextElementCount\n",
    "\n",
    "  // track a random \"magic\" packet through the fifo\n",
    "  val startTracking = IO(Input(Bool()))\n",
    "  val isActive = RegInit(false.B)\n",
    "  val packetValue = Reg(chiselTypeOf(enq.bits))\n",
    "  val packetCount = Reg(chiselTypeOf(elementCount))\n",
    "\n",
    "  when(!isActive && enq.fire && startTracking) {\n",
    "    when(deq.fire && elementCount === 0.U) {\n",
    "      assert(\n",
    "        enq.bits.asUInt === deq.bits.asUInt,\n",
    "        \"element should pass through the fifo, but %x != %x\",\n",
    "        enq.bits.asUInt,\n",
    "        deq.bits.asUInt\n",
    "      )\n",
    "    }.otherwise {\n",
    "      isActive := true.B\n",
    "      packetValue := enq.bits\n",
    "      packetCount := nextElementCount\n",
    "    }\n",
    "  }\n",
    "\n",
    "  when(isActive && deq.fire) {\n",
    "    packetCount := packetCount - 1.U\n",
    "    when(packetCount === 1.U) {\n",
    "      assert(\n",
    "        packetValue.asUInt === deq.bits.asUInt,\n",
    "        \"element should be dequeued in this cycle, but %x != %x\",\n",
    "        packetValue.asUInt,\n",
    "        deq.bits.asUInt\n",
    "      )\n",
    "      isActive := false.B\n",
    "    }\n",
    "  }\n",
    "\n",
    "  // detect element count overflow\n",
    "  when(elementCount === fifoDepth.U) {\n",
    "    val shouldIncrement = enq.fire && !deq.fire\n",
    "    assert(\n",
    "      !shouldIncrement,\n",
    "      \"MagicPacketTracker: element counter is overflowing %d -> %d\\n\" +\n",
    "        \"This could indicate either a bug in your FIFO design, or an insufficient depth provided to the MagicPacketTracker constructor.\",\n",
    "      elementCount,\n",
    "      nextElementCount\n",
    "    )\n",
    "  }\n",
    "\n",
    "  // printout to help debug counter examples\n",
    "  if (debugPrint) {\n",
    "    val cycle = RegInit(0.U(8.W)); cycle := cycle + 1.U\n",
    "    printf(p\"step: ${cycle} ----------------------------------\\n\")\n",
    "    printf(p\"element count: ${elementCount} -> ${nextElementCount}\\n\")\n",
    "    when(enq.fire) { printf(p\"[${enq.bits}]\") }\n",
    "    when(enq.fire || deq.fire) { printf(\" --> \") }\n",
    "    when(deq.fire) { printf(p\"[${deq.bits}]\") }\n",
    "    when(enq.fire || deq.fire) { printf(\"\\n\") }\n",
    "  }\n",
    "}"
   ]
  },
  {
   "cell_type": "markdown",
   "id": "9c10ca8a",
   "metadata": {
    "slideshow": {
     "slide_type": "slide"
    }
   },
   "source": [
    "# Simple Fifo"
   ]
  },
  {
   "cell_type": "code",
   "execution_count": null,
   "id": "159aaa78",
   "metadata": {},
   "outputs": [],
   "source": [
    "class FifoIO(bitWidth: Int) extends Bundle {\n",
    "  val enq = Flipped(Decoupled(UInt(bitWidth.W)))\n",
    "  val deq = Decoupled(UInt(bitWidth.W))\n",
    "}"
   ]
  },
  {
   "cell_type": "code",
   "execution_count": null,
   "id": "798d695e",
   "metadata": {
    "scrolled": true
   },
   "outputs": [],
   "source": [
    "\n",
    "class SimpleFifo(val numEntries: Int, bitWidth: Int) extends Module {\n",
    "  val io = IO(new FifoIO(bitWidth))\n",
    "  require(numEntries > 0)\n",
    "  // enqueue into lowest empty and dequeue from index 0 (head)\n",
    "  val entries = Reg(Vec(numEntries, UInt(bitWidth.W)))\n",
    "  val fullBits = RegInit(VecInit(Seq.fill(numEntries)(false.B)))\n",
    "  val emptyBits = fullBits.map(!_)\n",
    "  io.enq.ready := emptyBits.reduce( _ || _ ) // any empties?\n",
    "  io.deq.valid := fullBits.head\n",
    "  io.deq.bits := entries.head\n",
    "  when (io.deq.fire) { // dequeue & shift up\n",
    "    for (i <- 0 until numEntries - 1) {\n",
    "      entries(i) := entries(i+1)\n",
    "      fullBits(i) := fullBits(i+1)\n",
    "    }\n",
    "    fullBits.last := false.B\n",
    "  }\n",
    "  val writeIndex = PriorityEncoder(emptyBits)\n",
    "  val writeIndex2 = Mux(io.deq.fire, writeIndex - 1.U, writeIndex)\n",
    "  when (io.enq.fire) { // priority enqueue\n",
    "    entries(writeIndex2) := io.enq.bits\n",
    "    fullBits(writeIndex2) := true.B\n",
    "  }\n",
    "}"
   ]
  },
  {
   "cell_type": "markdown",
   "id": "186278c6",
   "metadata": {
    "slideshow": {
     "slide_type": "slide"
    }
   },
   "source": [
    "# Writing a Simple Unittest"
   ]
  },
  {
   "cell_type": "code",
   "execution_count": null,
   "id": "d60f62b2",
   "metadata": {},
   "outputs": [],
   "source": [
    "def push(clock: Clock, io: FifoIO, value: Int): Unit = {\n",
    "    io.deq.ready.poke(false) ; io.enq.valid.poke(true)\n",
    "    io.enq.ready.expect(true) ; io.enq.bits.poke(value)\n",
    "    clock.step() \n",
    "}\n",
    "\n",
    "def pop(clock: Clock, io: FifoIO, value: Int): Unit = {\n",
    "    io.enq.valid.poke(false) ; io.deq.ready.poke(true)\n",
    "    io.deq.valid.expect(true) ; io.deq.bits.expect(value)\n",
    "    clock.step()\n",
    "}\n",
    "\n",
    "\n",
    "def runTest(clock: Clock, io: FifoIO): Unit = {\n",
    "    push(clock, io, 0x123)\n",
    "    push(clock, io, 0x456)\n",
    "    pop(clock, io, 0x123)\n",
    "    pop(clock, io, 0x456)\n",
    "    clock.step()\n",
    "}\n",
    "\n",
    "test(new SimpleFifo(3, 32)) { dut =>\n",
    "    runTest(dut.clock, dut.io)\n",
    "}"
   ]
  },
  {
   "cell_type": "markdown",
   "id": "9db42008",
   "metadata": {
    "slideshow": {
     "slide_type": "slide"
    }
   },
   "source": [
    "# Visualize Behavior"
   ]
  },
  {
   "cell_type": "code",
   "execution_count": null,
   "id": "9b93b557",
   "metadata": {},
   "outputs": [],
   "source": [
    "class FifoWrapper(makeFifo: => SimpleFifo) extends Module {\n",
    "    val dut = Module(makeFifo)\n",
    "    val io = IO(chiselTypeOf(dut.io)) ; io <> dut.io\n",
    "    val entries = dut.entries.map(observe(_))\n",
    "    val full = dut.fullBits.map(observe(_))\n",
    "    val hexLen = (dut.io.enq.bits.getWidth / 4)\n",
    "    val writeIndex = observe(dut.writeIndex)\n",
    "    when(io.enq.fire) { printf(\"[%x] -> \", io.enq.bits) }\n",
    "    .otherwise { printf(\" \" * (hexLen + 6)) }\n",
    "\n",
    "    entries.zip(full).zipWithIndex.reverse.foreach { case ((entry, full), ii) =>\n",
    "        when(full) { printf(s\"$ii: [%x] \", entry) }\n",
    "        .otherwise { printf(s\"$ii: [${\"X\" * hexLen}] \") }\n",
    "        when(ii.U === writeIndex && io.enq.fire) { printf(\"W \") }\n",
    "        .otherwise { printf(\"  \") }\n",
    "    }\n",
    "\n",
    "    when(io.deq.fire) { printf(\"-> [%x]\", io.deq.bits) }\n",
    "    .otherwise { printf(\" \" * (hexLen + 5)) }\n",
    "\n",
    "    printf(\"\\n\")\n",
    "}\n",
    "\n",
    "test(new FifoWrapper(new SimpleFifo(3, 32))) { dut =>\n",
    "    runTest(dut.clock, dut.io)\n",
    "}"
   ]
  },
  {
   "cell_type": "markdown",
   "id": "64443a7e",
   "metadata": {
    "slideshow": {
     "slide_type": "slide"
    }
   },
   "source": [
    "# Formal Fifo Check"
   ]
  },
  {
   "cell_type": "code",
   "execution_count": null,
   "id": "c2878eae",
   "metadata": {},
   "outputs": [],
   "source": [
    "class FormalFifoChecker(makeFifo: => SimpleFifo) extends FifoWrapper(makeFifo) {\n",
    "    MagicPacketTracker(io.enq, io.deq, depth = dut.numEntries)\n",
    "}\n",
    "\n",
    "verify(new FormalFifoChecker(new SimpleFifo(4, 32)), Seq(BoundedCheck(8)))"
   ]
  },
  {
   "cell_type": "code",
   "execution_count": null,
   "id": "11712ce8",
   "metadata": {},
   "outputs": [],
   "source": []
  }
 ],
 "metadata": {
  "celltoolbar": "Slideshow",
  "kernelspec": {
   "display_name": "Scala",
   "language": "scala",
   "name": "scala"
  },
  "language_info": {
   "codemirror_mode": "text/x-scala",
   "file_extension": ".sc",
   "mimetype": "text/x-scala",
   "name": "scala",
   "nbconvert_exporter": "script",
   "version": "2.13.4"
  }
 },
 "nbformat": 4,
 "nbformat_minor": 5
}
